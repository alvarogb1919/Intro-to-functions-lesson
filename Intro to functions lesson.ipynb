{
 "cells": [
  {
   "cell_type": "code",
   "execution_count": 1,
   "metadata": {},
   "outputs": [
    {
     "name": "stdout",
     "output_type": "stream",
     "text": [
      "Generation: \n",
      "1996\n",
      "Generation: \n",
      "1954\n",
      "Generation: \n",
      "1960\n",
      "Alvaro is Z generation\n",
      "Josefran is baby boomer\n",
      "Julius is baby boomer\n"
     ]
    }
   ],
   "source": [
    "name1 = \"Alvaro\"\n",
    "birth_year1 = 1996\n",
    "\n",
    "name2 = \"Josefran\"\n",
    "birth_year2 = 1954\n",
    "\n",
    "name3 = \"Julius\"\n",
    "birth_year3 = 1960\n",
    "\n",
    "\n",
    "def generation_calculator (name, birth_year):\n",
    "    generation = birth_year\n",
    "    print (\"Generation: \")\n",
    "    print (generation)\n",
    "    if generation < 1949:\n",
    "        return name + \" is silent generation\"\n",
    "    if generation < 1969:\n",
    "        return name + \" is baby boomer\"\n",
    "    if generation < 1981:\n",
    "        return name + \" is X generation\"\n",
    "    if generation < 1994:\n",
    "        return name + \" is millennial\"\n",
    "    else:\n",
    "        return name + \" is Z generation\"\n",
    "    \n",
    "result1 = generation_calculator (name1, birth_year1)\n",
    "result2 = generation_calculator (name2, birth_year2)\n",
    "result3 = generation_calculator (name3, birth_year3)\n",
    "\n",
    "print (result1)\n",
    "print (result2)\n",
    "print (result3)"
   ]
  },
  {
   "cell_type": "code",
   "execution_count": null,
   "metadata": {},
   "outputs": [],
   "source": []
  }
 ],
 "metadata": {
  "kernelspec": {
   "display_name": "Python 3",
   "language": "python",
   "name": "python3"
  },
  "language_info": {
   "codemirror_mode": {
    "name": "ipython",
    "version": 3
   },
   "file_extension": ".py",
   "mimetype": "text/x-python",
   "name": "python",
   "nbconvert_exporter": "python",
   "pygments_lexer": "ipython3",
   "version": "3.8.5"
  }
 },
 "nbformat": 4,
 "nbformat_minor": 4
}
